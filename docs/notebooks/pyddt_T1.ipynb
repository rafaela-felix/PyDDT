{
 "cells": [
  {
   "cell_type": "markdown",
   "id": "f5700640",
   "metadata": {},
   "source": [
    "# Crystallographic calculations"
   ]
  },
  {
   "cell_type": "markdown",
   "id": "c2578043",
   "metadata": {},
   "source": [
    "pyddt provides tools for calculating the atomic scattering amplitude, anomalous scattering factors and structure factors of a crystal.\n",
    "\n",
    "This step-by-step tutorial aims to show some details on pyddt implementation, particularly the interpolation scheme of tabulated scattering amplitudes and the structure factor formula, besides performing these calculations using the package."
   ]
  },
  {
   "cell_type": "markdown",
   "id": "e06dbdc0",
   "metadata": {},
   "source": [
    "## 1. pyddt implementation"
   ]
  },
  {
   "cell_type": "markdown",
   "id": "f208da36",
   "metadata": {},
   "source": [
    "See [Computer Simulation Tools for X-ray Analysis: Scattering and Diffraction Methods](https://link.springer.com/book/10.1007/978-3-319-19554-4) for detailed reference on X-ray scattering theory. "
   ]
  },
  {
   "cell_type": "markdown",
   "id": "db474d7a",
   "metadata": {},
   "source": [
    "### 1.1 Atomic scattering factor and resonance amplitude"
   ]
  },
  {
   "cell_type": "markdown",
   "id": "d4e7a61e",
   "metadata": {},
   "source": [
    "For an atom with electronic density $\\rho_{a}(r)$, the coherent scattering intensity is given by \n",
    "\n",
    "$$I \\propto |f_{0}(Q) + f'(E) + if''(E)|^{2}$$\n",
    "\n",
    "where $f_{0} = \\text{FT}\\{\\rho_{a}(r)\\}$ is the **atomic scattering factor** and the **resonance amplitude** $f'(E) + if''(E)$ is related to the absorption and fluorescence processes. These values are theoretically calculated for all atoms and significant ions.\n",
    "\n",
    "pyddt uses the tabulated values from the [International Tables of Crystallography](https://onlinelibrary.wiley.com/doi/book/10.1107/97809553602060000001L), considering the linear interpolation of $f'$ and $f''$ for energies ranging from 1004.16 eV and 70 keV. The parametric equation\n",
    "\n",
    "$$f_{0}(\\text{sin}\\theta/\\lambda) = f_{0}(Q/4\\pi) = \\sum_{i=1}^{4}a_{i}e^{-b_{i}\\big(\\frac{Q}{4\\pi}\\big)^{2}} + c $$\n",
    "\n",
    "is employed for Q < 30 $\\mathring A$$^{-1}$. $a_{i}, b_{i}$ and $c$ are the Cromer-Mann coefficients."
   ]
  },
  {
   "cell_type": "markdown",
   "id": "e4eab177",
   "metadata": {},
   "source": [
    "### 1.2 Structure factor"
   ]
  },
  {
   "cell_type": "markdown",
   "id": "8b5b385f",
   "metadata": {},
   "source": [
    "Given a crystal, the structure factor of the $hkl$ lattice plane is calculated by\n",
    "\n",
    "$$F_{hkl} = \\sum_{a}(f_{0} + f' + if'')_{a}C_{a}e^{-M_{a}}e^{2\\pi i (hx_{a}+ly_{a}+lz_{a})} = |F_{hkl}|e^{i\\delta_{hkl}}$$\n",
    "\n",
    "where $a$ summation runs over all atoms inside the unit cell, $C_{a}$ is the occupancy number, and $(x_{a}, y_{a}, z_{a})$ are the fractional coordinates. \n",
    "\n",
    "The **isotropic** Debye-Waller factor $$M_{a} = 8\\pi^{2}\\eta_{a}^{2}\\bigg(\\frac{\\text{sin}\\theta}{\\lambda}^{2}\\bigg) $$\n",
    "represents the crystal disorder, so that $\\eta_{a}$ is the root-mean-square deviation of the $a$-th atom in the direction of $\\mathbf{Q}$. \n",
    "\n",
    "* pyddt current version doesn't support **anisotropic** thermal motion.\n",
    "\n",
    "* The structure file (*.in* file) must include the B-factors ($\\mathring A$$^2$) of all atoms, defined as \n",
    "\n",
    "$$B = 8\\pi^{2}\\eta_{a}^{2}$$"
   ]
  },
  {
   "cell_type": "markdown",
   "id": "7a22a203",
   "metadata": {},
   "source": [
    "## 2. Using pyddt"
   ]
  },
  {
   "cell_type": "markdown",
   "id": "4c1cabc4",
   "metadata": {},
   "source": [
    "After this brief remarking on the pyddt implementation, let us show how to perform some crystallographic calculations."
   ]
  },
  {
   "cell_type": "markdown",
   "id": "aa0f2ee0",
   "metadata": {},
   "source": [
    "### 2.1 Importing packages"
   ]
  },
  {
   "cell_type": "markdown",
   "id": "beaee762",
   "metadata": {},
   "source": [
    "Beyond pyddt, we will also use Numpy for generating arrays and matplotlib for plotting."
   ]
  },
  {
   "cell_type": "code",
   "execution_count": 1,
   "id": "6d2e1f89",
   "metadata": {},
   "outputs": [
    {
     "data": {
      "application/vnd.jupyter.widget-view+json": {
       "model_id": "77b2db3c0b4e492f857efd7ea4678c2e",
       "version_major": 2,
       "version_minor": 0
      },
      "text/plain": []
     },
     "metadata": {},
     "output_type": "display_data"
    }
   ],
   "source": [
    "import numpy as np\n",
    "import matplotlib.pyplot as plt\n",
    "\n",
    "plt.rcParams['font.size'] = '14'\n",
    "\n",
    "import sys\n",
    "sys.path.append('path/to/pyddt')\n",
    "\n",
    "import pyddt"
   ]
  },
  {
   "cell_type": "markdown",
   "id": "d3695b32",
   "metadata": {},
   "source": [
    "### 2.2 Atomic scattering factors"
   ]
  },
  {
   "cell_type": "markdown",
   "id": "d97ec3fb",
   "metadata": {},
   "source": [
    "Let's calculate the atomic scattering factor of selenium and reciprocal vector $Q=8\\pi\\; (\\mathring A$$^{-1})$."
   ]
  },
  {
   "cell_type": "code",
   "execution_count": 2,
   "id": "ce8fed0a",
   "metadata": {},
   "outputs": [
    {
     "data": {
      "text/plain": [
       "array([[4.79787017]])"
      ]
     },
     "execution_count": 2,
     "metadata": {},
     "output_type": "execute_result"
    }
   ],
   "source": [
    "pyddt.asfQ('Se', 2)  # Q/4π = 2/Å"
   ]
  },
  {
   "cell_type": "markdown",
   "id": "67457a10",
   "metadata": {},
   "source": [
    "Try it using different atoms, ions, and $Q$ values. The `asfQ` function also works for an array of $Q$ values."
   ]
  },
  {
   "cell_type": "code",
   "execution_count": 3,
   "id": "be5beed5",
   "metadata": {},
   "outputs": [
    {
     "data": {
      "text/plain": [
       "array([33.9885    , 16.30767336,  7.86524559,  5.59115665,  4.35547504,\n",
       "        3.55113219,  3.12239028,  2.93518598,  2.86759017,  2.84728523])"
      ]
     },
     "execution_count": 3,
     "metadata": {},
     "output_type": "execute_result"
    }
   ],
   "source": [
    "q = np.linspace(0, 5, 10)  # Q/4π\n",
    "pyddt.asfQ('Se', q)"
   ]
  },
  {
   "cell_type": "markdown",
   "id": "8a5e80eb",
   "metadata": {},
   "source": [
    "What happens for the Na$^{3+}$ ion? "
   ]
  },
  {
   "cell_type": "code",
   "execution_count": 4,
   "id": "6af59f20",
   "metadata": {},
   "outputs": [
    {
     "name": "stdout",
     "output_type": "stream",
     "text": [
      "Na3+ is not included in Cromermann factors. Replaced by Na1+\n"
     ]
    },
    {
     "data": {
      "text/plain": [
       "array([[1.03279492]])"
      ]
     },
     "execution_count": 4,
     "metadata": {},
     "output_type": "execute_result"
    }
   ],
   "source": [
    "pyddt.asfQ('Na3+', 2)  "
   ]
  },
  {
   "cell_type": "markdown",
   "id": "25a10814",
   "metadata": {},
   "source": [
    "pyddt always replaces the ion that isn't available in the tabulated values with the most similar.\n",
    "A warning always will be show when this kind of replacement happens. \n",
    "\n",
    "See [Analyzing structure factor phases in pure and doped single crystals by synchrotron X-ray Renninger scanning](http://scripts.iucr.org/cgi-bin/paper?S1600576713028677) (appendix A) for obtaining the atomic scattering factors of non-tabulated ions by using the available ions.\n",
    "\n",
    "Lastly, let's visualize the atomic scattering factors as a function of $Q$ using matplotlib. "
   ]
  },
  {
   "cell_type": "code",
   "execution_count": 5,
   "id": "8f5f1d24",
   "metadata": {},
   "outputs": [
    {
     "data": {
      "image/png": "[encoded data removed]",
      "text/plain": [
       "<Figure size 504x360 with 1 Axes>"
      ]
     },
     "metadata": {
      "needs_background": "light"
     },
     "output_type": "display_data"
    }
   ],
   "source": [
    "q = np.linspace(0, 8, 1000)\n",
    "\n",
    "fig = plt.figure(figsize=(7, 5))\n",
    "\n",
    "plt.plot(q, pyddt.asfQ('Na1+', q), '-', label='Na1+')\n",
    "plt.plot(q, pyddt.asfQ('Na', q), label='Na')\n",
    "\n",
    "plt.xlabel(r'Q/4$\\pi$ (1/angstrom)')\n",
    "plt.ylabel('Atomic scattering factor f(Q)')\n",
    "plt.legend()\n",
    "plt.show()"
   ]
  },
  {
   "cell_type": "markdown",
   "id": "59e764a0",
   "metadata": {},
   "source": [
    "### 2.3 Resonance amplitude - anomalous scattering factors"
   ]
  },
  {
   "cell_type": "markdown",
   "id": "6c2a3536",
   "metadata": {},
   "source": [
    "Now, we will show how to obtain the atomic resonance amplitude (also called anomalous scattering factors). The input of `aresE` function is very similar to the `asfQ`. For iron and characteristic radiation, one obtains"
   ]
  },
  {
   "cell_type": "code",
   "execution_count": 6,
   "id": "9d8eb888",
   "metadata": {},
   "outputs": [
    {
     "data": {
      "text/plain": [
       "(-1.1306382948756366+3.1972344171411446j)"
      ]
     },
     "execution_count": 6,
     "metadata": {},
     "output_type": "execute_result"
    }
   ],
   "source": [
    "pyddt.aresE('Fe', 8048)  # 8048 eV"
   ]
  },
  {
   "cell_type": "markdown",
   "id": "4bb93063",
   "metadata": {},
   "source": [
    "Considering a range of energies and copper atom, "
   ]
  },
  {
   "cell_type": "code",
   "execution_count": 7,
   "id": "ad61e367",
   "metadata": {},
   "outputs": [
    {
     "data": {
      "text/plain": [
       "array([-0.11975181+6.32684898j,  0.09827547+3.9969607j ,\n",
       "       -0.05817156+2.75911135j, -0.26933609+2.02224386j,\n",
       "       -0.49158992+1.54844579j, -0.70484541+1.22527238j,\n",
       "       -0.92480622+0.99511293j, -1.16733754+0.82516188j,\n",
       "       -1.4683844 +0.69590195j, -1.91835961+0.59518187j])"
      ]
     },
     "execution_count": 7,
     "metadata": {},
     "output_type": "execute_result"
    }
   ],
   "source": [
    "pyddt.aresE('Cu', np.linspace(2000, 8000, 10)) "
   ]
  },
  {
   "cell_type": "markdown",
   "id": "f6a8e669",
   "metadata": {},
   "source": [
    "What happens for an ion? Try to calculate for Fe$^{2+}$. Is this result physically meaningful?  "
   ]
  },
  {
   "cell_type": "code",
   "execution_count": 8,
   "id": "777c05ff",
   "metadata": {},
   "outputs": [
    {
     "data": {
      "text/plain": [
       "0"
      ]
     },
     "execution_count": 8,
     "metadata": {},
     "output_type": "execute_result"
    }
   ],
   "source": [
    "pyddt.aresE('Fe2+', 8048)  # 8048 eV"
   ]
  },
  {
   "cell_type": "markdown",
   "id": "8f0106ae",
   "metadata": {},
   "source": [
    "The answer is no. The resonance amplitude isn't null for ions, but the tabulated values were only calculated for isolated atoms. \n",
    "\n",
    "When calculating the structure factors, **pyddt** will automatically replace the anomalous scattering factor of an ion with the corresponding isolated atom. However, pay attention that this is just an approximation.\n",
    "\n",
    "Let's take a look at the characteristic behavior of resonance amplitude near the Fe absorption edge."
   ]
  },
  {
   "cell_type": "code",
   "execution_count": 9,
   "id": "4e25a09a",
   "metadata": {},
   "outputs": [
    {
     "data": {
      "image/png": "[encoded data removed]",
      "text/plain": [
       "<Figure size 504x360 with 2 Axes>"
      ]
     },
     "metadata": {
      "needs_background": "light"
     },
     "output_type": "display_data"
    }
   ],
   "source": [
    "e = np.linspace(6000, 8000, 1000)\n",
    "\n",
    "fig, (ax1, ax2) = plt.subplots(2, 1, figsize=(7, 5), sharex=True)\n",
    "\n",
    "ax1.plot(e/1000, np.real(pyddt.aresE('Fe', e)), 'r-', label=\"f'\")\n",
    "ax2.plot(e/1000, np.imag(pyddt.aresE('Fe', e)), 'b-', label=\"f''\")\n",
    "\n",
    "plt.xlabel(r'E (keV)')\n",
    "fig.legend()\n",
    "plt.show()"
   ]
  },
  {
   "cell_type": "markdown",
   "id": "bfed4e39",
   "metadata": {},
   "source": [
    "### 2.3 Structure factor"
   ]
  },
  {
   "cell_type": "markdown",
   "id": "82e54a4d",
   "metadata": {},
   "source": [
    "To exemplify the structure factor calculation, let us consider the sodium chloride crystal. You can download its CIF on [Materials Project mp-22862](https://materialsproject.org/materials/mp-22862/). "
   ]
  },
  {
   "cell_type": "markdown",
   "id": "27eec2e7",
   "metadata": {},
   "source": [
    "`NaCl.cif`\n",
    "\n",
    "\n",
    "<img align=left src=\"https://user-images.githubusercontent.com/106104347/187297124-d39c3bb1-c62a-41d7-a11e-a1b7c264b281.png\" width=\"350\">"
   ]
  },
  {
   "cell_type": "markdown",
   "id": "9cfd8477",
   "metadata": {},
   "source": [
    "#### 2.3.1 Converting CIF into .in file "
   ]
  },
  {
   "cell_type": "markdown",
   "id": "7bc4b41e",
   "metadata": {},
   "source": [
    "The `Crystal`class requires an *.in* file, so we will convert the CIF into the expected format using the `pyddt.to_in()` function."
   ]
  },
  {
   "cell_type": "code",
   "execution_count": 10,
   "id": "bf53b6f7",
   "metadata": {},
   "outputs": [],
   "source": [
    "pyddt.to_in('NaCl.cif')"
   ]
  },
  {
   "cell_type": "markdown",
   "id": "491d836c",
   "metadata": {},
   "source": [
    "In the current folder, two new files are available: `NaCl.in` and `NaCl.struc`. Take a look at them.\n",
    "\n",
    "The *.in* file presents the atom or ion symbol followed by its fractional coordinates ($x$, $y$ and $z$), occupancy number and B-factor. The first line shows the lattice parameters ($a$, $b$, $c$, $\\alpha$, $\\beta$ and $\\gamma$). Meanwhile, the *.struc* file presents some structural and electronic properties which might be useful for structural modelling."
   ]
  },
  {
   "cell_type": "markdown",
   "id": "f653f819",
   "metadata": {},
   "source": [
    "#### 2.3.2 Crystal object"
   ]
  },
  {
   "cell_type": "markdown",
   "id": "7b87303b",
   "metadata": {},
   "source": [
    "The next step is generating a `crystal` object."
   ]
  },
  {
   "cell_type": "code",
   "execution_count": 11,
   "id": "5f8c1e96",
   "metadata": {},
   "outputs": [],
   "source": [
    "nacl = pyddt.Crystal('NaCl.in')"
   ]
  },
  {
   "cell_type": "markdown",
   "id": "199f8589",
   "metadata": {},
   "source": [
    "Once this object was created, we can check its lattice and structure. "
   ]
  },
  {
   "cell_type": "code",
   "execution_count": 12,
   "id": "58b6bf4f",
   "metadata": {},
   "outputs": [
    {
     "data": {
      "text/plain": [
       "array([ 5.6917,  5.6917,  5.6917, 90.    , 90.    , 90.    ])"
      ]
     },
     "execution_count": 12,
     "metadata": {},
     "output_type": "execute_result"
    }
   ],
   "source": [
    "nacl.structure.lattice"
   ]
  },
  {
   "cell_type": "code",
   "execution_count": 13,
   "id": "bdd83391",
   "metadata": {},
   "outputs": [
    {
     "data": {
      "text/plain": [
       "array(['Na', 'Na', 'Na', 'Na', 'Cl', 'Cl', 'Cl', 'Cl'], dtype='<U32')"
      ]
     },
     "execution_count": 13,
     "metadata": {},
     "output_type": "execute_result"
    }
   ],
   "source": [
    "nacl.structure.atoms"
   ]
  },
  {
   "cell_type": "code",
   "execution_count": 14,
   "id": "0c2412d5",
   "metadata": {},
   "outputs": [
    {
     "data": {
      "text/plain": [
       "array([[0. , 0. , 0. ],\n",
       "       [0. , 0.5, 0.5],\n",
       "       [0.5, 0. , 0.5],\n",
       "       [0.5, 0.5, 0. ],\n",
       "       [0.5, 0. , 0. ],\n",
       "       [0.5, 0.5, 0.5],\n",
       "       [0. , 0. , 0.5],\n",
       "       [0. , 0.5, 0. ]])"
      ]
     },
     "execution_count": 14,
     "metadata": {},
     "output_type": "execute_result"
    }
   ],
   "source": [
    "nacl.structure.positions"
   ]
  },
  {
   "cell_type": "markdown",
   "id": "3805514e",
   "metadata": {},
   "source": [
    "The `bragg()` method returns the interplanar distance and Bragg angle from beam energy and the Miller indices."
   ]
  },
  {
   "cell_type": "code",
   "execution_count": 15,
   "id": "faa0139a",
   "metadata": {},
   "outputs": [
    {
     "name": "stdout",
     "output_type": "stream",
     "text": [
      "\n",
      "E = 8048 eV - hkl = 100\n",
      "d =  5.69 angstrom\n",
      "Bragg angle =  7.78 deg\n",
      "\n"
     ]
    }
   ],
   "source": [
    "d, th = nacl.bragg(8048, [1, 0, 0])\n",
    "print('\\nE = 8048 eV - hkl = 100')\n",
    "print('d = ', np.round(d, 2), 'angstrom')\n",
    "print('Bragg angle = ', np.round(th, 2), 'deg\\n')"
   ]
  },
  {
   "cell_type": "markdown",
   "id": "2a70a5b5",
   "metadata": {},
   "source": [
    "The `Fhkl()` method returns the complex structure factor. Feel free to try other energy values and *hkl* indices."
   ]
  },
  {
   "cell_type": "code",
   "execution_count": 16,
   "id": "04e9d604",
   "metadata": {},
   "outputs": [
    {
     "name": "stdout",
     "output_type": "stream",
     "text": [
      " F =  (-18.6152-2.2587j) \n",
      "|F| =  18.7517 \n",
      "phase =  -173.0818 deg\n"
     ]
    }
   ],
   "source": [
    "F = nacl.Fhkl(8048, [1, 1, 1])\n",
    "\n",
    "print(\" F = \", np.round(F, 4),\n",
    "      \"\\n|F| = \", np.round(np.absolute(F), 4), \n",
    "      \"\\nphase = \", np.round(np.angle(F)*180/np.pi, 4), \"deg\")"
   ]
  },
  {
   "cell_type": "markdown",
   "id": "ff1d0c8d",
   "metadata": {},
   "source": [
    "It's possible to do this calculation for an array of energies or reflections by once."
   ]
  },
  {
   "cell_type": "code",
   "execution_count": 17,
   "id": "97e29fd3",
   "metadata": {},
   "outputs": [
    {
     "data": {
      "image/png": "[encoded data removed]",
      "text/plain": [
       "<Figure size 504x360 with 2 Axes>"
      ]
     },
     "metadata": {
      "needs_background": "light"
     },
     "output_type": "display_data"
    }
   ],
   "source": [
    "E = np.arange(3000, 12500, 500)  # eV\n",
    "\n",
    "fig, (ax1, ax2) = plt.subplots(2, 1, figsize=(7, 5), sharex=True)\n",
    "\n",
    "ax1.plot(E, np.angle(nacl.Fhkl(E, [1, 1, 1]))*180/np.pi)\n",
    "ax2.plot(E, np.absolute(nacl.Fhkl(E, [1, 1, 1]))*180/np.pi)\n",
    "\n",
    "plt.xlabel('Energy (eV)')\n",
    "\n",
    "ax1.set_ylabel('Phase (deg)')\n",
    "ax2.set_ylabel('Absolute value')\n",
    "plt.show()"
   ]
  },
  {
   "cell_type": "code",
   "execution_count": 18,
   "id": "1f03dbbf",
   "metadata": {},
   "outputs": [
    {
     "name": "stdout",
     "output_type": "stream",
     "text": [
      "phase =  -168.935091990334219 90.000000000000003504 degrees\n"
     ]
    }
   ],
   "source": [
    "F = nacl.Fhkl(8048, [[1, 1, 3], [0, 0, 1]])\n",
    "print('phase = ', *np.angle(F)*180/np.pi, 'degrees')"
   ]
  },
  {
   "cell_type": "markdown",
   "id": "ce44bfe4",
   "metadata": {},
   "source": [
    "#### 2.3.3 Structure factor list "
   ]
  },
  {
   "cell_type": "markdown",
   "id": "b8852903",
   "metadata": {},
   "source": [
    "By the end, let us calculate the structure factor of all reflections. "
   ]
  },
  {
   "cell_type": "code",
   "execution_count": 19,
   "id": "9127d45c",
   "metadata": {},
   "outputs": [],
   "source": [
    "hkl, f, d = nacl.diffraction(8048)  # Miller indices, structure factors and interplanar distance"
   ]
  },
  {
   "cell_type": "code",
   "execution_count": 20,
   "id": "a3db9a90",
   "metadata": {},
   "outputs": [
    {
     "data": {
      "text/plain": [
       "array([[ 0.,  0., -2.],\n",
       "       [ 0., -2.,  0.],\n",
       "       [-2.,  0.,  0.],\n",
       "       ...,\n",
       "       [-5.,  0., -1.],\n",
       "       [ 1., -1.,  0.],\n",
       "       [ 0., -5., -3.]])"
      ]
     },
     "execution_count": 20,
     "metadata": {},
     "output_type": "execute_result"
    }
   ],
   "source": [
    "hkl"
   ]
  },
  {
   "cell_type": "code",
   "execution_count": 21,
   "id": "061e8e5a",
   "metadata": {},
   "outputs": [
    {
     "data": {
      "text/plain": [
       "array([2.84585   , 2.84585   , 2.84585   , ..., 1.11623421, 4.02463967,\n",
       "       0.9761185 ])"
      ]
     },
     "execution_count": 21,
     "metadata": {},
     "output_type": "execute_result"
    }
   ],
   "source": [
    "d  # angstrom"
   ]
  },
  {
   "cell_type": "markdown",
   "id": "79c2e3b0",
   "metadata": {},
   "source": [
    "----"
   ]
  },
  {
   "cell_type": "markdown",
   "id": "9251780e",
   "metadata": {},
   "source": [
    "In the next tutorial, we will generate structural models by using the `Structure` class and use them as `Crystal` objects for planning X-ray dynamical diffraction experiments. "
   ]
  }
 ],
 "metadata": {
  "kernelspec": {
   "display_name": "Python 3 (ipykernel)",
   "language": "python",
   "name": "python3"
  },
  "language_info": {
   "codemirror_mode": {
    "name": "ipython",
    "version": 3
   },
   "file_extension": ".py",
   "mimetype": "text/x-python",
   "name": "python",
   "nbconvert_exporter": "python",
   "pygments_lexer": "ipython3",
   "version": "3.10.7"
  }
 },
 "nbformat": 4,
 "nbformat_minor": 5
}
